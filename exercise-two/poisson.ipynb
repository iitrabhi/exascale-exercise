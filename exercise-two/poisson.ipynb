{
 "cells": [
  {
   "cell_type": "code",
   "execution_count": 49,
   "metadata": {},
   "outputs": [],
   "source": [
    "import numpy as np\n",
    "import matplotlib.pyplot as plt\n",
    "from matplotlib.patches import Polygon\n",
    "%matplotlib inline"
   ]
  },
  {
   "cell_type": "code",
   "execution_count": 87,
   "metadata": {},
   "outputs": [],
   "source": [
    "class RectangleMesh():\n",
    "    def __init__(self, point_1, point_2, nx, ny):\n",
    "        self.num_nodes = (nx+1)*(ny+1)\n",
    "        self.num_ele = (nx)*(ny)\n",
    "        self.geomtery = self.create_geometry(point_1, point_2, nx, ny)\n",
    "        self.topology = self.create_topology(nx,ny)\n",
    "    \n",
    "    def create_geometry(self, point_1, point_2, nx, ny):\n",
    "        \"\"\" This method will return the node_number vs\n",
    "        co-ordinate table. The node numbering is done left\n",
    "        to right, bottom to top.\n",
    "        \"\"\"\n",
    "        geo = np.zeros((self.num_nodes,2))\n",
    "        x = np.linspace(point_1[0],point_2[0],nx+1)\n",
    "        y = np.linspace(point_1[1],point_2[1],ny+1)\n",
    "        xx, yy = np.meshgrid(x, y)\n",
    "        geo[:,0] = xx.reshape(self.num_nodes) \n",
    "        geo[:,1] = yy.reshape(self.num_nodes)\n",
    "        return geo\n",
    "    def create_topology(self, nx, ny):\n",
    "        \"\"\"\n",
    "        This method will create the connectivity table.\n",
    "        The element number is done left to right, bottom to top.\n",
    "        \"\"\"\n",
    "        topo = np.zeros((self.num_ele, 4)).astype(int)\n",
    "        for i in range(ny):\n",
    "            for j in range(nx):\n",
    "                ele_num = nx*(i)+j\n",
    "                topo[ele_num,:] = [ele_num+i,ele_num+i+1,ele_num+i+nx+2,ele_num+i+nx+1]\n",
    "        return topo\n",
    "    def plot(self):\n",
    "        for i in range(self.num_ele):\n",
    "            p = Polygon(self.geomtery[np.ix_(self.topology[i])], fc='white',ec=\"black\",lw=3)\n",
    "            plt.gca().add_patch(p)\n",
    "        plt.axis('scaled')\n",
    "        plt.show()\n"
   ]
  },
  {
   "cell_type": "code",
   "execution_count": 96,
   "metadata": {},
   "outputs": [],
   "source": [
    "mesh = RectangleMesh([0, 0], [1, 1], 3, 3)"
   ]
  },
  {
   "cell_type": "code",
   "execution_count": 97,
   "metadata": {},
   "outputs": [
    {
     "data": {
      "text/plain": [
       "array([0., 0.])"
      ]
     },
     "execution_count": 97,
     "metadata": {},
     "output_type": "execute_result"
    }
   ],
   "source": [
    "mesh.geomtery[np.ix_(mesh.topology[0])][0]"
   ]
  },
  {
   "cell_type": "code",
   "execution_count": 98,
   "metadata": {},
   "outputs": [
    {
     "data": {
      "image/png": "[encoded data removed]",
      "text/plain": [
       "<Figure size 432x288 with 1 Axes>"
      ]
     },
     "metadata": {
      "needs_background": "light"
     },
     "output_type": "display_data"
    }
   ],
   "source": [
    "mesh.plot()"
   ]
  },
  {
   "cell_type": "code",
   "execution_count": null,
   "metadata": {},
   "outputs": [],
   "source": []
  }
 ],
 "metadata": {
  "interpreter": {
   "hash": "d2badae5cf02be4d0b8489ff003191012a27ed1153825cc472eaf45c4d0bfa09"
  },
  "kernelspec": {
   "display_name": "Python 3",
   "language": "python",
   "name": "python3"
  },
  "language_info": {
   "codemirror_mode": {
    "name": "ipython",
    "version": 3
   },
   "file_extension": ".py",
   "mimetype": "text/x-python",
   "name": "python",
   "nbconvert_exporter": "python",
   "pygments_lexer": "ipython3",
   "version": "3.6.9"
  }
 },
 "nbformat": 4,
 "nbformat_minor": 2
}
