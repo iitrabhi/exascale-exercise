{
 "cells": [
  {
   "cell_type": "code",
   "execution_count": 371,
   "metadata": {},
   "outputs": [],
   "source": [
    "import numpy as np\n",
    "import matplotlib.pyplot as plt\n",
    "from matplotlib.patches import Polygon\n",
    "import matplotlib.tri as mtri\n",
    "%matplotlib inline"
   ]
  },
  {
   "cell_type": "code",
   "execution_count": 372,
   "metadata": {},
   "outputs": [],
   "source": [
    "class RectangleMesh():\n",
    "    def __init__(self, point_1, point_2, nx, ny):\n",
    "        self.num_nodes = (nx+1)*(ny+1)\n",
    "        self.num_ele = (nx)*(ny)\n",
    "        self.geomtery = self.create_geometry(point_1, point_2, nx, ny)\n",
    "        self.topology = self.create_topology(nx,ny)\n",
    "    \n",
    "    def create_geometry(self, point_1, point_2, nx, ny):\n",
    "        \"\"\" This method will return the node_number vs\n",
    "        co-ordinate table. The node numbering is done left\n",
    "        to right, bottom to top.\n",
    "        \"\"\"\n",
    "        geo = np.zeros((self.num_nodes,2))\n",
    "        x = np.linspace(point_1[0],point_2[0],nx+1)\n",
    "        y = np.linspace(point_1[1],point_2[1],ny+1)\n",
    "        xx, yy = np.meshgrid(x, y)\n",
    "        geo[:,0] = xx.reshape(self.num_nodes) \n",
    "        geo[:,1] = yy.reshape(self.num_nodes)\n",
    "        return geo\n",
    "    def create_topology(self, nx, ny):\n",
    "        \"\"\"\n",
    "        This method will create the connectivity table.\n",
    "        The element number is done left to right, bottom to top.\n",
    "        \"\"\"\n",
    "        topo = np.zeros((self.num_ele, 4)).astype(int)\n",
    "        for i in range(ny):\n",
    "            for j in range(nx):\n",
    "                ele_num = nx*(i)+j\n",
    "                topo[ele_num,:] = [ele_num+i,ele_num+i+1,ele_num+i+nx+2,ele_num+i+nx+1]\n",
    "        return topo\n",
    "    def plot(self):\n",
    "        for i in range(self.num_ele):\n",
    "            p = Polygon(self.geomtery[np.ix_(self.topology[i])], fc='white',ec=\"black\",lw=3)\n",
    "            plt.gca().add_patch(p)\n",
    "        plt.axis('scaled')\n",
    "        plt.show()\n"
   ]
  },
  {
   "cell_type": "code",
   "execution_count": 373,
   "metadata": {},
   "outputs": [],
   "source": [
    "mesh = RectangleMesh([0, 0], [1, 1], 2, 2)"
   ]
  },
  {
   "cell_type": "code",
   "execution_count": 374,
   "metadata": {},
   "outputs": [
    {
     "data": {
      "text/plain": [
       "array([[0. , 0. ],\n",
       "       [0.5, 0. ],\n",
       "       [0.5, 0.5],\n",
       "       [0. , 0.5]])"
      ]
     },
     "execution_count": 374,
     "metadata": {},
     "output_type": "execute_result"
    }
   ],
   "source": [
    "mesh.geomtery[np.ix_(mesh.topology[0])]"
   ]
  },
  {
   "cell_type": "code",
   "execution_count": 375,
   "metadata": {},
   "outputs": [
    {
     "data": {
      "image/png": "[encoded data removed]",
      "text/plain": [
       "<Figure size 432x288 with 1 Axes>"
      ]
     },
     "metadata": {
      "needs_background": "light"
     },
     "output_type": "display_data"
    }
   ],
   "source": [
    "mesh.plot()"
   ]
  },
  {
   "cell_type": "code",
   "execution_count": 376,
   "metadata": {},
   "outputs": [],
   "source": [
    "def basis(xi,eta):\n",
    "    \"\"\"This function will return the basis value and its derivatives at a point (xi, eta).\"\"\"\n",
    "    N = [1/4*(1-xi)*(1-eta),1/4*(1+xi)*(1-eta),1/4*(1+xi)*(1+eta),1/4*(1-xi)*(1+eta)]\n",
    "    dN_dxi = [-1/4*(1-eta), +1/4*(1-eta), +1/4*(1+eta), -1/4*(1+eta)]\n",
    "    dN_deta = [-1/4*(1-xi) ,-1/4*(1+xi) ,+1/4*(1+xi) ,+1/4*(1-xi)]\n",
    "    return np.array(N), dN_dxi,dN_deta"
   ]
  },
  {
   "cell_type": "code",
   "execution_count": 377,
   "metadata": {},
   "outputs": [],
   "source": [
    "def jacobian(xi, eta, ele_num, mesh):\n",
    "    \"\"\"This function will create the jacobian matrix and its determinant at point (xi, eta).\"\"\"\n",
    "    x = mesh.geomtery[np.ix_(mesh.topology[ele_num])][:,0]\n",
    "    y = mesh.geomtery[np.ix_(mesh.topology[ele_num])][:,1]\n",
    "    N, dN_dxi, dN_deta = basis(xi,eta)\n",
    "\n",
    "    gp_x = np.dot(N, x)\n",
    "    gp_y = np.dot(N, y)\n",
    "\n",
    "    dxdxi = np.zeros((2, 2))\n",
    "    dxdxi[0, 0] = np.dot(dN_dxi, x)\n",
    "    dxdxi[0, 1] = np.dot(dN_dxi, y)\n",
    "    dxdxi[1, 0] = np.dot(dN_deta, x)\n",
    "    dxdxi[1, 1] = np.dot(dN_deta, y)\n",
    "\n",
    "    jac_det = dxdxi[0, 0] * dxdxi[1, 1] - dxdxi[0, 1] * dxdxi[1, 0]\n",
    "\n",
    "    shape_der_para = np.stack([dN_dxi, dN_deta], axis=1)\n",
    "    jac_inv = np.linalg.inv(dxdxi)\n",
    "    # here we are converting the derivatives from parametric space to cartesian space\n",
    "    dN_dX = np.matmul(shape_der_para, jac_inv)\n",
    "    return N, dN_dX[:,0], dN_dX[:,1], jac_det, gp_x, gp_y"
   ]
  },
  {
   "cell_type": "code",
   "execution_count": 378,
   "metadata": {},
   "outputs": [
    {
     "data": {
      "text/plain": [
       "(array([0., 0., 0., 1.]),\n",
       " array([ 0.,  0.,  2., -2.]),\n",
       " array([-2.,  0.,  0.,  2.]),\n",
       " 0.0625,\n",
       " 0.5,\n",
       " 0.5)"
      ]
     },
     "execution_count": 378,
     "metadata": {},
     "output_type": "execute_result"
    }
   ],
   "source": [
    "jacobian(-1, 1, 1, mesh)\n"
   ]
  },
  {
   "cell_type": "code",
   "execution_count": null,
   "metadata": {},
   "outputs": [],
   "source": []
  },
  {
   "cell_type": "code",
   "execution_count": 381,
   "metadata": {},
   "outputs": [],
   "source": [
    "def assemble(mesh, load_expression=lambda x, y: 4 * (-y**2+y)* np.sin(np.pi * x)):\n",
    "    gp = [-np.sqrt(1 / 3),+ np.sqrt(1 / 3)]\n",
    "    global_stiffness = np.zeros((mesh.num_nodes, mesh.num_nodes))\n",
    "    global_load = np.zeros(mesh.num_nodes)\n",
    "    for ele_num in range(0, mesh.num_ele):\n",
    "        element_load = np.zeros(4)\n",
    "        element_stiffness = np.zeros((4, 4))\n",
    "        for eta in gp:\n",
    "            for xi in gp:\n",
    "                N, dN_dx, dN_dy, jac_det, gp_x, gp_y = jacobian(xi, eta, ele_num, mesh)\n",
    "\n",
    "                # Here is the actual definition of poisson's equation.==>(u,x v,x+u,y v,y)\n",
    "                # w_u,w_v=1,ele_area=4\n",
    "                element_stiffness = element_stiffness + (\n",
    "                        np.tensordot(dN_dx, dN_dx, 0) +\n",
    "                        np.tensordot(dN_dy, dN_dy, 0)) * jac_det \n",
    "                element_load = element_load + N * load_expression(gp_x, gp_y) * jac_det * 8\n",
    "                \n",
    "        # Once the element level stiffness matrix has been made the next step is to place the elements at\n",
    "        # their respective position in the global stiffness matrix.\n",
    "        ele_topo = mesh.topology[ele_num]\n",
    "        global_stiffness[np.ix_(ele_topo, ele_topo)] = global_stiffness[np.ix_(ele_topo, ele_topo)] + element_stiffness\n",
    "        global_load[ele_topo] = global_load[ele_topo] + element_load\n",
    "\n",
    "    return global_stiffness, global_load"
   ]
  },
  {
   "cell_type": "code",
   "execution_count": 382,
   "metadata": {},
   "outputs": [
    {
     "data": {
      "text/plain": [
       "(array([[ 0.66666667, -0.16666667,  0.        , -0.16666667, -0.33333333,\n",
       "          0.        ,  0.        ,  0.        ,  0.        ],\n",
       "        [-0.16666667,  1.33333333, -0.16666667, -0.33333333, -0.33333333,\n",
       "         -0.33333333,  0.        ,  0.        ,  0.        ],\n",
       "        [ 0.        , -0.16666667,  0.66666667,  0.        , -0.33333333,\n",
       "         -0.16666667,  0.        ,  0.        ,  0.        ],\n",
       "        [-0.16666667, -0.33333333,  0.        ,  1.33333333, -0.33333333,\n",
       "          0.        , -0.16666667, -0.33333333,  0.        ],\n",
       "        [-0.33333333, -0.33333333, -0.33333333, -0.33333333,  2.66666667,\n",
       "         -0.33333333, -0.33333333, -0.33333333, -0.33333333],\n",
       "        [ 0.        , -0.33333333, -0.16666667,  0.        , -0.33333333,\n",
       "          1.33333333,  0.        , -0.33333333, -0.16666667],\n",
       "        [ 0.        ,  0.        ,  0.        , -0.16666667, -0.33333333,\n",
       "          0.        ,  0.66666667, -0.16666667,  0.        ],\n",
       "        [ 0.        ,  0.        ,  0.        , -0.33333333, -0.33333333,\n",
       "         -0.33333333, -0.16666667,  1.33333333, -0.16666667],\n",
       "        [ 0.        ,  0.        ,  0.        ,  0.        , -0.33333333,\n",
       "         -0.16666667,  0.        , -0.16666667,  0.66666667]]),\n",
       " array([0.11420159, 0.40724423, 0.11420159, 0.38067196, 1.35748078,\n",
       "        0.38067196, 0.11420159, 0.40724423, 0.11420159]))"
      ]
     },
     "execution_count": 382,
     "metadata": {},
     "output_type": "execute_result"
    }
   ],
   "source": [
    "assemble(mesh)"
   ]
  },
  {
   "cell_type": "code",
   "execution_count": 383,
   "metadata": {},
   "outputs": [],
   "source": [
    "def quad2tri(mesh):\n",
    "    tri_topo = np.zeros((mesh.num_ele*2,3)).astype(int)\n",
    "    for i in range(mesh.num_ele):\n",
    "        tri_topo[2*i,:] = mesh.topology[i, np.ix_([0,1,3])]\n",
    "        tri_topo[2*i+1,:] = mesh.topology[i, np.ix_([1,2,3])]\n",
    "    return tri_topo"
   ]
  },
  {
   "cell_type": "code",
   "execution_count": 384,
   "metadata": {},
   "outputs": [
    {
     "data": {
      "image/png": "[encoded data removed]",
      "text/plain": [
       "<Figure size 432x288 with 2 Axes>"
      ]
     },
     "metadata": {
      "needs_background": "light"
     },
     "output_type": "display_data"
    }
   ],
   "source": [
    "triangles = quad2tri(mesh)\n",
    "triang = mtri.Triangulation(mesh.geomtery[:,0], mesh.geomtery[:,1], triangles)\n",
    "fig, axs = plt.subplots()\n",
    "z=assemble(mesh)[1]\n",
    "t = axs.tricontourf(triang, z)\n",
    "axs.tricontour(triang, z, 100)\n",
    "fig.colorbar(t)\n",
    "plt.show()"
   ]
  },
  {
   "cell_type": "code",
   "execution_count": null,
   "metadata": {},
   "outputs": [],
   "source": []
  },
  {
   "cell_type": "code",
   "execution_count": null,
   "metadata": {},
   "outputs": [],
   "source": []
  },
  {
   "cell_type": "code",
   "execution_count": null,
   "metadata": {},
   "outputs": [],
   "source": []
  },
  {
   "cell_type": "code",
   "execution_count": 362,
   "metadata": {},
   "outputs": [
    {
     "name": "stdout",
     "output_type": "stream",
     "text": [
      "Calling FFC just-in-time (JIT) compiler, this may take some time.\n",
      "Calling FFC just-in-time (JIT) compiler, this may take some time.\n",
      "Calling FFC just-in-time (JIT) compiler, this may take some time.\n"
     ]
    }
   ],
   "source": [
    "from dolfin import *\n",
    "\n",
    "# Create mesh and define function space\n",
    "mesh = UnitSquareMesh.create(2, 2, CellType.Type.quadrilateral)\n",
    "V = FunctionSpace(mesh, \"Lagrange\", 1)\n",
    "\n",
    "# Define Dirichlet boundary (x = 0 or x = 1)\n",
    "boundary = CompiledSubDomain(\"on_boundary\")\n",
    "\n",
    "# Define boundary condition\n",
    "u0 = Constant(0.0)\n",
    "bc = DirichletBC(V, u0, boundary)\n",
    "\n",
    "# Define variational problem\n",
    "u = TrialFunction(V)\n",
    "v = TestFunction(V)\n",
    "f = Expression(\" 4 * (-x[1]*x[1]+x[1])* sin(pi * x[0])\",degree = 2)\n",
    "a = inner(grad(u), grad(v))*dx\n",
    "L = f*v*dx\n",
    "\n",
    "# Compute solution\n",
    "u = Function(V)\n",
    "solve(a == L, u, bc)"
   ]
  },
  {
   "cell_type": "code",
   "execution_count": 363,
   "metadata": {},
   "outputs": [
    {
     "name": "stdout",
     "output_type": "stream",
     "text": [
      "Calling FFC just-in-time (JIT) compiler, this may take some time.\n",
      "Calling FFC just-in-time (JIT) compiler, this may take some time.\n"
     ]
    },
    {
     "ename": "AttributeError",
     "evalue": "Matplotlib plotting backend doesn't handle quadrilateral mesh.\nPossible options are saving the output to XDMF file or using 'x3dom' backend.",
     "output_type": "error",
     "traceback": [
      "\u001b[0;31m---------------------------------------------------------------------------\u001b[0m",
      "\u001b[0;31mAttributeError\u001b[0m                            Traceback (most recent call last)",
      "\u001b[0;32m<ipython-input-363-49cb27270804>\u001b[0m in \u001b[0;36m<module>\u001b[0;34m\u001b[0m\n\u001b[0;32m----> 1\u001b[0;31m \u001b[0mplot\u001b[0m\u001b[0;34m(\u001b[0m\u001b[0mproject\u001b[0m\u001b[0;34m(\u001b[0m\u001b[0mf\u001b[0m\u001b[0;34m,\u001b[0m\u001b[0mV\u001b[0m\u001b[0;34m)\u001b[0m\u001b[0;34m)\u001b[0m\u001b[0;34m\u001b[0m\u001b[0;34m\u001b[0m\u001b[0m\n\u001b[0m",
      "\u001b[0;32m/usr/local/lib/python3.6/dist-packages/dolfin/common/plotting.py\u001b[0m in \u001b[0;36mplot\u001b[0;34m(object, *args, **kwargs)\u001b[0m\n\u001b[1;32m    436\u001b[0m     \u001b[0;31m# Plot\u001b[0m\u001b[0;34m\u001b[0m\u001b[0;34m\u001b[0m\u001b[0;34m\u001b[0m\u001b[0m\n\u001b[1;32m    437\u001b[0m     \u001b[0;32mif\u001b[0m \u001b[0mbackend\u001b[0m \u001b[0;34m==\u001b[0m \u001b[0;34m\"matplotlib\"\u001b[0m\u001b[0;34m:\u001b[0m\u001b[0;34m\u001b[0m\u001b[0;34m\u001b[0m\u001b[0m\n\u001b[0;32m--> 438\u001b[0;31m         \u001b[0;32mreturn\u001b[0m \u001b[0m_plot_matplotlib\u001b[0m\u001b[0;34m(\u001b[0m\u001b[0mobject\u001b[0m\u001b[0;34m,\u001b[0m \u001b[0mmesh\u001b[0m\u001b[0;34m,\u001b[0m \u001b[0mkwargs\u001b[0m\u001b[0;34m)\u001b[0m\u001b[0;34m\u001b[0m\u001b[0;34m\u001b[0m\u001b[0m\n\u001b[0m\u001b[1;32m    439\u001b[0m     \u001b[0;32melif\u001b[0m \u001b[0mbackend\u001b[0m \u001b[0;34m==\u001b[0m \u001b[0;34m\"x3dom\"\u001b[0m\u001b[0;34m:\u001b[0m\u001b[0;34m\u001b[0m\u001b[0;34m\u001b[0m\u001b[0m\n\u001b[1;32m    440\u001b[0m         \u001b[0;32mreturn\u001b[0m \u001b[0m_plot_x3dom\u001b[0m\u001b[0;34m(\u001b[0m\u001b[0mobject\u001b[0m\u001b[0;34m,\u001b[0m \u001b[0mkwargs\u001b[0m\u001b[0;34m)\u001b[0m\u001b[0;34m\u001b[0m\u001b[0;34m\u001b[0m\u001b[0m\n",
      "\u001b[0;32m/usr/local/lib/python3.6/dist-packages/dolfin/common/plotting.py\u001b[0m in \u001b[0;36m_plot_matplotlib\u001b[0;34m(obj, mesh, kwargs)\u001b[0m\n\u001b[1;32m    263\u001b[0m         raise AttributeError((\"Matplotlib plotting backend doesn't handle %s mesh.\\n\"\n\u001b[1;32m    264\u001b[0m                               \u001b[0;34m\"Possible options are saving the output to XDMF file \"\u001b[0m\u001b[0;34m\u001b[0m\u001b[0;34m\u001b[0m\u001b[0m\n\u001b[0;32m--> 265\u001b[0;31m                               \"or using 'x3dom' backend.\") % mesh.ufl_cell().cellname())\n\u001b[0m\u001b[1;32m    266\u001b[0m \u001b[0;34m\u001b[0m\u001b[0m\n\u001b[1;32m    267\u001b[0m     \u001b[0;31m# Avoid importing pyplot until used\u001b[0m\u001b[0;34m\u001b[0m\u001b[0;34m\u001b[0m\u001b[0;34m\u001b[0m\u001b[0m\n",
      "\u001b[0;31mAttributeError\u001b[0m: Matplotlib plotting backend doesn't handle quadrilateral mesh.\nPossible options are saving the output to XDMF file or using 'x3dom' backend."
     ]
    }
   ],
   "source": [
    "plot(project(f,V))"
   ]
  },
  {
   "cell_type": "code",
   "execution_count": 365,
   "metadata": {},
   "outputs": [],
   "source": [
    "force = project(f,V)\n",
    "# force(0.5,0.5)"
   ]
  },
  {
   "cell_type": "code",
   "execution_count": 366,
   "metadata": {},
   "outputs": [
    {
     "data": {
      "text/plain": [
       "array([0.02301186, 0.18967853, 1.32774972, 0.16108305, 0.02301186,\n",
       "       0.16108305, 0.02301186, 0.18967853, 0.02301186])"
      ]
     },
     "execution_count": 366,
     "metadata": {},
     "output_type": "execute_result"
    }
   ],
   "source": [
    "force.vector()[:]"
   ]
  },
  {
   "cell_type": "code",
   "execution_count": 367,
   "metadata": {},
   "outputs": [
    {
     "name": "stdout",
     "output_type": "stream",
     "text": [
      "Calling FFC just-in-time (JIT) compiler, this may take some time.\n"
     ]
    }
   ],
   "source": [
    "K=assemble(a)"
   ]
  },
  {
   "cell_type": "code",
   "execution_count": 368,
   "metadata": {},
   "outputs": [
    {
     "data": {
      "text/plain": [
       "array([[ 0.66666667, -0.16666667, -0.33333333, -0.16666667,  0.        ,\n",
       "         0.        ,  0.        ,  0.        ,  0.        ],\n",
       "       [-0.16666667,  1.33333333, -0.33333333, -0.33333333, -0.16666667,\n",
       "        -0.33333333,  0.        ,  0.        ,  0.        ],\n",
       "       [-0.33333333, -0.33333333,  2.66666667, -0.33333333, -0.33333333,\n",
       "        -0.33333333, -0.33333333, -0.33333333, -0.33333333],\n",
       "       [-0.16666667, -0.33333333, -0.33333333,  1.33333333,  0.        ,\n",
       "         0.        ,  0.        , -0.33333333, -0.16666667],\n",
       "       [ 0.        , -0.16666667, -0.33333333,  0.        ,  0.66666667,\n",
       "        -0.16666667,  0.        ,  0.        ,  0.        ],\n",
       "       [ 0.        , -0.33333333, -0.33333333,  0.        , -0.16666667,\n",
       "         1.33333333, -0.16666667, -0.33333333,  0.        ],\n",
       "       [ 0.        ,  0.        , -0.33333333,  0.        ,  0.        ,\n",
       "        -0.16666667,  0.66666667, -0.16666667,  0.        ],\n",
       "       [ 0.        ,  0.        , -0.33333333, -0.33333333,  0.        ,\n",
       "        -0.33333333, -0.16666667,  1.33333333, -0.16666667],\n",
       "       [ 0.        ,  0.        , -0.33333333, -0.16666667,  0.        ,\n",
       "         0.        ,  0.        , -0.16666667,  0.66666667]])"
      ]
     },
     "execution_count": 368,
     "metadata": {},
     "output_type": "execute_result"
    }
   ],
   "source": [
    "K.array()"
   ]
  },
  {
   "cell_type": "code",
   "execution_count": null,
   "metadata": {},
   "outputs": [],
   "source": []
  }
 ],
 "metadata": {
  "interpreter": {
   "hash": "d2badae5cf02be4d0b8489ff003191012a27ed1153825cc472eaf45c4d0bfa09"
  },
  "kernelspec": {
   "display_name": "Python 3",
   "language": "python",
   "name": "python3"
  },
  "language_info": {
   "codemirror_mode": {
    "name": "ipython",
    "version": 3
   },
   "file_extension": ".py",
   "mimetype": "text/x-python",
   "name": "python",
   "nbconvert_exporter": "python",
   "pygments_lexer": "ipython3",
   "version": "3.6.9"
  }
 },
 "nbformat": 4,
 "nbformat_minor": 2
}
